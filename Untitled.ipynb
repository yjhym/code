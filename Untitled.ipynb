{
 "cells": [
  {
   "cell_type": "code",
   "execution_count": 2,
   "id": "11d0eca2-27f8-4cc9-8499-9d16db90b0db",
   "metadata": {},
   "outputs": [
    {
     "name": "stdin",
     "output_type": "stream",
     "text": [
      "현재 날씨가 궁금한 동네의 이름을 입력해주세요  개포동\n"
     ]
    },
    {
     "name": "stdout",
     "output_type": "stream",
     "text": [
      "현재 개포동은 2.9° 입니다\n",
      "어제보다 3.2° 낮아요 / 흐림\n",
      "체감 1.5° 습도 92% 북서풍 1.5m/s\n",
      "현재 개포동은 2.9° 입니다\n",
      "어제보다 3.2° 낮아요 / 흐림\n",
      "체감 1.5° 습도 92% 북서풍 1.5m/s\n",
      "현재 개포동은 2.9° 입니다\n",
      "어제보다 3.2° 낮아요 / 흐림\n",
      "체감 1.5° 습도 92% 북서풍 1.5m/s\n",
      "현재 개포동은 2.9° 입니다\n",
      "어제보다 3.2° 낮아요 / 흐림\n",
      "체감 1.5° 습도 92% 북서풍 1.5m/s\n",
      "현재 개포동은 2.9° 입니다\n",
      "어제보다 3.2° 낮아요 / 흐림\n",
      "체감 1.5° 습도 92% 북서풍 1.5m/s\n"
     ]
    }
   ],
   "source": [
    "import time\n",
    "from bs4 import BeautifulSoup\n",
    "from urllib import request, parse\n",
    "base_url=\"https://search.naver.com/search.naver\"\n",
    "location=input(\"현재 날씨가 궁금한 동네의 이름을 입력해주세요 \").strip()\n",
    "query_params = {\"query\": f\"{location} 날씨\"}\n",
    "query_string=parse.urlencode(query_params)\n",
    "url=f\"{base_url}?{query_string}\"\n",
    "html=request.urlopen(url).read()\n",
    "soup=BeautifulSoup(html, 'html.parser')\n",
    "temp=soup.find(\"div\",attrs={'class':\"temperature_text\"})\n",
    "diff=soup.find(\"span\",attrs={'class':\"temperature down\"})\n",
    "weath=soup.find(\"span\",attrs={'class':\"weather before_slash\"})\n",
    "feel=soup.find(\"div\",attrs={'class':\"sort\"})\n",
    "humid=soup.find_all(\"dd\",attrs={'class':\"desc\"})\n",
    "wind_name=soup.find_all(\"dt\",attrs={'class':\"term\"})\n",
    "temperature=temp.text[6:]\n",
    "difference=diff.text\n",
    "weather=weath.text\n",
    "feeling=feel.text\n",
    "humidity=humid[1].text\n",
    "winds_name=wind_name[2].text\n",
    "winds=humid[2].text\n",
    "time1=time.time()\n",
    "time2=time.localtime(time1)\n",
    "now_time=time.strftime(\"%H시\",time2)\n",
    "for i in range(5):\n",
    "    print(f\"현재 {location}은 {temperature}입니다\")\n",
    "    print(f\"어제보다 {difference}/ {weather}\")\n",
    "    print(f\"{feeling.strip()} 습도 {humidity} {winds_name} {winds}\")\n",
    "    time.sleep(120)"
   ]
  },
  {
   "cell_type": "code",
   "execution_count": null,
   "id": "3e83e241-6e80-481a-90f9-43d1b22f5215",
   "metadata": {},
   "outputs": [],
   "source": []
  }
 ],
 "metadata": {
  "kernelspec": {
   "display_name": "Python 3 (ipykernel)",
   "language": "python",
   "name": "python3"
  },
  "language_info": {
   "codemirror_mode": {
    "name": "ipython",
    "version": 3
   },
   "file_extension": ".py",
   "mimetype": "text/x-python",
   "name": "python",
   "nbconvert_exporter": "python",
   "pygments_lexer": "ipython3",
   "version": "3.10.9"
  }
 },
 "nbformat": 4,
 "nbformat_minor": 5
}
